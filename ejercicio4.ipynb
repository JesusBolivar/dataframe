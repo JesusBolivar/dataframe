{
 "cells": [
  {
   "cell_type": "code",
   "execution_count": 13,
   "metadata": {},
   "outputs": [],
   "source": [
    "import pandas as pd\n",
    "import matplotlib.pyplot as plt\n",
    "import pymongo\n",
    "from pymongo import MongoClient"
   ]
  },
  {
   "cell_type": "code",
   "execution_count": 14,
   "metadata": {},
   "outputs": [],
   "source": [
    "class Conexion:\n",
    "    def conectar(self):\n",
    "        global conector\n",
    "        conector = MongoClient('localhost',27017)"
   ]
  },
  {
   "cell_type": "code",
   "execution_count": 15,
   "metadata": {
    "scrolled": true
   },
   "outputs": [],
   "source": [
    "mongo = Conexion()\n",
    "mongo.conectar()\n",
    "mongoClient = conector"
   ]
  },
  {
   "cell_type": "code",
   "execution_count": 19,
   "metadata": {},
   "outputs": [
    {
     "name": "stdout",
     "output_type": "stream",
     "text": [
      "    Caudal  Precipitaciones           Rio  Temperatura  \\\n",
      "0   340.00             1019          Miño         14.3   \n",
      "1   714.00              434         Duero         15.8   \n",
      "2   426.00              486          Ebro         16.4   \n",
      "3   500.00              448          Tajo         13.4   \n",
      "4    49.22              929         Júcar         17.3   \n",
      "5   600.00              550      Guadiana         17.0   \n",
      "6   164.30              519  Guadalquivir         21.1   \n",
      "7    26.30              301        Segura         17.1   \n",
      "8    16.10              556         Genil         15.7   \n",
      "9   340.00             1019          Miño         14.3   \n",
      "10  714.00              434         Duero         15.8   \n",
      "11  426.00              486          Ebro         16.4   \n",
      "12  500.00              448          Tajo         13.4   \n",
      "13   49.22              929         Júcar         17.3   \n",
      "14  600.00              550      Guadiana         17.0   \n",
      "15  164.30              519  Guadalquivir         21.1   \n",
      "16   26.30              301        Segura         17.1   \n",
      "17   16.10              556         Genil         15.7   \n",
      "18  340.00             1019          Miño         14.3   \n",
      "19  714.00              434         Duero         15.8   \n",
      "20  426.00              486          Ebro         16.4   \n",
      "21  500.00              448          Tajo         13.4   \n",
      "22   49.22              929         Júcar         17.3   \n",
      "23  600.00              550      Guadiana         17.0   \n",
      "24  164.30              519  Guadalquivir         21.1   \n",
      "25   26.30              301        Segura         17.1   \n",
      "26   16.10              556         Genil         15.7   \n",
      "\n",
      "                         _id  \n",
      "0   5c017eee95415a117047f68b  \n",
      "1   5c017eee95415a117047f68c  \n",
      "2   5c017eee95415a117047f68d  \n",
      "3   5c017eee95415a117047f68e  \n",
      "4   5c017eee95415a117047f68f  \n",
      "5   5c017eee95415a117047f690  \n",
      "6   5c017eee95415a117047f691  \n",
      "7   5c017eee95415a117047f692  \n",
      "8   5c017eee95415a117047f693  \n",
      "9   5c01815595415a117047f6d1  \n",
      "10  5c01815595415a117047f6d2  \n",
      "11  5c01815595415a117047f6d3  \n",
      "12  5c01815595415a117047f6d4  \n",
      "13  5c01815595415a117047f6d5  \n",
      "14  5c01815595415a117047f6d6  \n",
      "15  5c01815595415a117047f6d7  \n",
      "16  5c01815595415a117047f6d8  \n",
      "17  5c01815595415a117047f6d9  \n",
      "18  5c01816595415a117047f6de  \n",
      "19  5c01816595415a117047f6df  \n",
      "20  5c01816595415a117047f6e0  \n",
      "21  5c01816595415a117047f6e1  \n",
      "22  5c01816595415a117047f6e2  \n",
      "23  5c01816595415a117047f6e3  \n",
      "24  5c01816595415a117047f6e4  \n",
      "25  5c01816595415a117047f6e5  \n",
      "26  5c01816595415a117047f6e6  \n"
     ]
    }
   ],
   "source": [
    "db = mongoClient.riosesp\n",
    "collection = db.rios\n",
    "mostrar = collection.find()\n",
    "df = pd.DataFrame(list(mostrar))\n",
    "print(df)"
   ]
  },
  {
   "cell_type": "code",
   "execution_count": 29,
   "metadata": {},
   "outputs": [
    {
     "data": {
      "text/html": [
       "<h1>Caudal de los rios de España</h1>"
      ],
      "text/plain": [
       "<IPython.core.display.HTML object>"
      ]
     },
     "metadata": {},
     "output_type": "display_data"
    }
   ],
   "source": [
    "%%html\n",
    "<h1>Caudal de los rios de España</h1>"
   ]
  },
  {
   "cell_type": "code",
   "execution_count": 31,
   "metadata": {},
   "outputs": [
    {
     "data": {
      "text/plain": [
       "<matplotlib.axes._subplots.AxesSubplot at 0x7f5d1044eb38>"
      ]
     },
     "execution_count": 31,
     "metadata": {},
     "output_type": "execute_result"
    },
    {
     "data": {
      "image/png": "[encoded data removed]",
      "text/plain": [
       "<Figure size 432x288 with 1 Axes>"
      ]
     },
     "metadata": {},
     "output_type": "display_data"
    }
   ],
   "source": [
    "df.groupby('Rio')['Caudal'].max().plot(kind='pie')"
   ]
  },
  {
   "cell_type": "code",
   "execution_count": 35,
   "metadata": {},
   "outputs": [
    {
     "data": {
      "text/html": [
       "<h1>Precipitacion media anual</h1>"
      ],
      "text/plain": [
       "<IPython.core.display.HTML object>"
      ]
     },
     "metadata": {},
     "output_type": "display_data"
    }
   ],
   "source": [
    "%%html\n",
    "<h1>Precipitacion media anual</h1>"
   ]
  },
  {
   "cell_type": "code",
   "execution_count": 36,
   "metadata": {},
   "outputs": [
    {
     "data": {
      "text/plain": [
       "<matplotlib.axes._subplots.AxesSubplot at 0x7f5d101b1320>"
      ]
     },
     "execution_count": 36,
     "metadata": {},
     "output_type": "execute_result"
    },
    {
     "data": {
      "image/png": "[encoded data removed]",
      "text/plain": [
       "<Figure size 432x288 with 1 Axes>"
      ]
     },
     "metadata": {
      "needs_background": "light"
     },
     "output_type": "display_data"
    }
   ],
   "source": [
    "df.groupby('Rio')['Precipitaciones'].max().plot(kind='barh')"
   ]
  },
  {
   "cell_type": "code",
   "execution_count": 37,
   "metadata": {},
   "outputs": [
    {
     "data": {
      "text/html": [
       "<h1>Temperatura media anual</h1>"
      ],
      "text/plain": [
       "<IPython.core.display.HTML object>"
      ]
     },
     "metadata": {},
     "output_type": "display_data"
    }
   ],
   "source": [
    "%%html\n",
    "<h1>Temperatura media anual</h1>"
   ]
  },
  {
   "cell_type": "code",
   "execution_count": 52,
   "metadata": {},
   "outputs": [
    {
     "data": {
      "text/plain": [
       "<matplotlib.axes._subplots.AxesSubplot at 0x7f5d0a2d26a0>"
      ]
     },
     "execution_count": 52,
     "metadata": {},
     "output_type": "execute_result"
    },
    {
     "data": {
      "image/png": "[encoded data removed]",
      "text/plain": [
       "<Figure size 432x288 with 1 Axes>"
      ]
     },
     "metadata": {
      "needs_background": "light"
     },
     "output_type": "display_data"
    }
   ],
   "source": [
    "df.groupby('Rio')['Temperatura'].max().plot(kind='bar')"
   ]
  }
 ],
 "metadata": {
  "kernelspec": {
   "display_name": "Python 3",
   "language": "python",
   "name": "python3"
  },
  "language_info": {
   "codemirror_mode": {
    "name": "ipython",
    "version": 3
   },
   "file_extension": ".py",
   "mimetype": "text/x-python",
   "name": "python",
   "nbconvert_exporter": "python",
   "pygments_lexer": "ipython3",
   "version": "3.7.0"
  }
 },
 "nbformat": 4,
 "nbformat_minor": 2
}
